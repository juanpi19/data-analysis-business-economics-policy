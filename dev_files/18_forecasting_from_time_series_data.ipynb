{
 "cells": [
  {
   "cell_type": "markdown",
   "metadata": {},
   "source": [
    "# Chapter 18: Forecasting from Time Series Data\n",
    "\n",
    "How to use time series data for predictions with the help of trends, seasonality, serial correlation, and predicted values of other variables\n",
    "\n",
    "This chapter discusses forecasting: prediction from time series data for one or more time periods in the future.\n"
   ]
  },
  {
   "cell_type": "markdown",
   "metadata": {},
   "source": [
    "# Key Terms\n",
    "\n",
    "- forecast horizon: the length of the time period we want to forecast for"
   ]
  },
  {
   "cell_type": "code",
   "execution_count": null,
   "metadata": {},
   "outputs": [],
   "source": []
  },
  {
   "cell_type": "markdown",
   "metadata": {},
   "source": []
  }
 ],
 "metadata": {
  "kernelspec": {
   "display_name": "Python 3",
   "language": "python",
   "name": "python3"
  },
  "language_info": {
   "name": "python",
   "version": "3.10.13"
  }
 },
 "nbformat": 4,
 "nbformat_minor": 2
}
